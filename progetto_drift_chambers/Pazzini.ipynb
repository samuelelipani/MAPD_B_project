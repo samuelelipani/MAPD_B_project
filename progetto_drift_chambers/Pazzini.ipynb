{
 "metadata": {
  "language_info": {
   "codemirror_mode": {
    "name": "ipython",
    "version": 3
   },
   "file_extension": ".py",
   "mimetype": "text/x-python",
   "name": "python",
   "nbconvert_exporter": "python",
   "pygments_lexer": "ipython3",
   "version": "3.9.1"
  },
  "orig_nbformat": 4,
  "kernelspec": {
   "name": "python3",
   "display_name": "Python 3.9.1 64-bit"
  },
  "interpreter": {
   "hash": "63a9b978788f6b8f9d9a8751b3cc3de792d961de9f66b342307b1bc38716c88e"
  }
 },
 "nbformat": 4,
 "nbformat_minor": 2,
 "cells": [
  {
   "cell_type": "code",
   "execution_count": 1,
   "metadata": {},
   "outputs": [],
   "source": [
    "import numpy as np \n",
    "import matplotlib.pyplot as plt \n",
    "from numba import njit\n",
    "import pandas as pd\n",
    "import re"
   ]
  },
  {
   "cell_type": "code",
   "execution_count": 2,
   "metadata": {},
   "outputs": [
    {
     "output_type": "display_data",
     "data": {
      "text/plain": "         tdc    bx       orbit  chan  fpga  head\n0          4  1609  1098099315     0     0     0\n1          4  1608   586394227   382     0     0\n2          4  1612     7580275   476     5     4\n3          4  1613  2155063923    40     4     5\n4          0  3258  3012945097   310     0     2\n...      ...   ...         ...   ...   ...   ...\n1310587    0  1714   796284928   283     1     6\n1310588    0     0  4292491436   511     0     4\n1310589    0     4     5912748   277     4     3\n1310590    0     5  2153396396   107     2     1\n1310591    0     3     1555244     4     2     4\n\n[1310592 rows x 6 columns]",
      "text/html": "<div>\n<style scoped>\n    .dataframe tbody tr th:only-of-type {\n        vertical-align: middle;\n    }\n\n    .dataframe tbody tr th {\n        vertical-align: top;\n    }\n\n    .dataframe thead th {\n        text-align: right;\n    }\n</style>\n<table border=\"1\" class=\"dataframe\">\n  <thead>\n    <tr style=\"text-align: right;\">\n      <th></th>\n      <th>tdc</th>\n      <th>bx</th>\n      <th>orbit</th>\n      <th>chan</th>\n      <th>fpga</th>\n      <th>head</th>\n    </tr>\n  </thead>\n  <tbody>\n    <tr>\n      <th>0</th>\n      <td>4</td>\n      <td>1609</td>\n      <td>1098099315</td>\n      <td>0</td>\n      <td>0</td>\n      <td>0</td>\n    </tr>\n    <tr>\n      <th>1</th>\n      <td>4</td>\n      <td>1608</td>\n      <td>586394227</td>\n      <td>382</td>\n      <td>0</td>\n      <td>0</td>\n    </tr>\n    <tr>\n      <th>2</th>\n      <td>4</td>\n      <td>1612</td>\n      <td>7580275</td>\n      <td>476</td>\n      <td>5</td>\n      <td>4</td>\n    </tr>\n    <tr>\n      <th>3</th>\n      <td>4</td>\n      <td>1613</td>\n      <td>2155063923</td>\n      <td>40</td>\n      <td>4</td>\n      <td>5</td>\n    </tr>\n    <tr>\n      <th>4</th>\n      <td>0</td>\n      <td>3258</td>\n      <td>3012945097</td>\n      <td>310</td>\n      <td>0</td>\n      <td>2</td>\n    </tr>\n    <tr>\n      <th>...</th>\n      <td>...</td>\n      <td>...</td>\n      <td>...</td>\n      <td>...</td>\n      <td>...</td>\n      <td>...</td>\n    </tr>\n    <tr>\n      <th>1310587</th>\n      <td>0</td>\n      <td>1714</td>\n      <td>796284928</td>\n      <td>283</td>\n      <td>1</td>\n      <td>6</td>\n    </tr>\n    <tr>\n      <th>1310588</th>\n      <td>0</td>\n      <td>0</td>\n      <td>4292491436</td>\n      <td>511</td>\n      <td>0</td>\n      <td>4</td>\n    </tr>\n    <tr>\n      <th>1310589</th>\n      <td>0</td>\n      <td>4</td>\n      <td>5912748</td>\n      <td>277</td>\n      <td>4</td>\n      <td>3</td>\n    </tr>\n    <tr>\n      <th>1310590</th>\n      <td>0</td>\n      <td>5</td>\n      <td>2153396396</td>\n      <td>107</td>\n      <td>2</td>\n      <td>1</td>\n    </tr>\n    <tr>\n      <th>1310591</th>\n      <td>0</td>\n      <td>3</td>\n      <td>1555244</td>\n      <td>4</td>\n      <td>2</td>\n      <td>4</td>\n    </tr>\n  </tbody>\n</table>\n<p>1310592 rows × 6 columns</p>\n</div>"
     },
     "metadata": {}
    }
   ],
   "source": [
    "fp = 'data_000000.dat'\n",
    "\n",
    "m = np.fromfile(fp, dtype = '>u8') # default: '<u8'\n",
    "\n",
    "mi = m#.astype(int) # non serve, anzi meglio evitarlo così resta tutto unsigned\n",
    "\n",
    "mat = np.zeros((mi.shape[0], 6), dtype = \"u4\") # orbit raggiunge i 32 bit\n",
    "\n",
    "mat[:,0] = mi & int('1' * 5, 2) # tdc, 0-4 (5)\n",
    "mat[:,1] = (mi & int('1' * 12 + '0' * 5, 2)) >> 5 # bx, 5-16 (12)\n",
    "mat[:,2] = (mi & int('1' * 32 + '0' * 17, 2)) >> 17 # orbit, 17-48 (32)\n",
    "mat[:,3] = (mi & int('1' * 9 + '0' * 49 , 2)) >> 49 # chan, 49-57 (9)\n",
    "mat[:,4] = (mi & int('1' * 3 + '0' * 58, 2)) >> 58 # fpga (3)\n",
    "#mat[:,5] = (mi & int('1' * 3 + '0' * 61, 2)) >> 61 # head (3)\n",
    "# la riga sopra fallisce a causa di un overflow, sarebbe un bitwise di un numero con un array troppo \"stretto\" rispetto all'altro numero\n",
    "# meglio prima traslare e poi fare l'and\n",
    "mat[:,5] = mi >> 61 # del resto basta questo, è ovvio che se tolgo gli ultimi 61 bits restano solo i primi 3\n",
    "\n",
    "#print(mat[1])\n",
    "#print(mat.dtype)\n",
    "df_big = pd.DataFrame(mat, columns = ['tdc', 'bx', 'orbit', 'chan', 'fpga', 'head'])\n",
    "display(df_big)"
   ]
  },
  {
   "cell_type": "code",
   "execution_count": 3,
   "metadata": {},
   "outputs": [
    {
     "output_type": "display_data",
     "data": {
      "text/plain": "         tdc    bx       orbit  chan  fpga  head\n0          0     0  4079645633   100     1     1\n1          2  4064  4079645602   100     1     0\n2         23  1476  4079645568   100     1     4\n3         16   653  4079645568   100     1     5\n4          2  2922  3387200947    75     0     2\n...      ...   ...         ...   ...   ...   ...\n1310587    6   438     5797423   107     0     2\n1310588    3  4092   741923455     0     0     0\n1310589   18   339   741923328     0     0     4\n1310590    8  1721   741923328     0     0     5\n1310591    8    68   742070144     0     0     3\n\n[1310592 rows x 6 columns]",
      "text/html": "<div>\n<style scoped>\n    .dataframe tbody tr th:only-of-type {\n        vertical-align: middle;\n    }\n\n    .dataframe tbody tr th {\n        vertical-align: top;\n    }\n\n    .dataframe thead th {\n        text-align: right;\n    }\n</style>\n<table border=\"1\" class=\"dataframe\">\n  <thead>\n    <tr style=\"text-align: right;\">\n      <th></th>\n      <th>tdc</th>\n      <th>bx</th>\n      <th>orbit</th>\n      <th>chan</th>\n      <th>fpga</th>\n      <th>head</th>\n    </tr>\n  </thead>\n  <tbody>\n    <tr>\n      <th>0</th>\n      <td>0</td>\n      <td>0</td>\n      <td>4079645633</td>\n      <td>100</td>\n      <td>1</td>\n      <td>1</td>\n    </tr>\n    <tr>\n      <th>1</th>\n      <td>2</td>\n      <td>4064</td>\n      <td>4079645602</td>\n      <td>100</td>\n      <td>1</td>\n      <td>0</td>\n    </tr>\n    <tr>\n      <th>2</th>\n      <td>23</td>\n      <td>1476</td>\n      <td>4079645568</td>\n      <td>100</td>\n      <td>1</td>\n      <td>4</td>\n    </tr>\n    <tr>\n      <th>3</th>\n      <td>16</td>\n      <td>653</td>\n      <td>4079645568</td>\n      <td>100</td>\n      <td>1</td>\n      <td>5</td>\n    </tr>\n    <tr>\n      <th>4</th>\n      <td>2</td>\n      <td>2922</td>\n      <td>3387200947</td>\n      <td>75</td>\n      <td>0</td>\n      <td>2</td>\n    </tr>\n    <tr>\n      <th>...</th>\n      <td>...</td>\n      <td>...</td>\n      <td>...</td>\n      <td>...</td>\n      <td>...</td>\n      <td>...</td>\n    </tr>\n    <tr>\n      <th>1310587</th>\n      <td>6</td>\n      <td>438</td>\n      <td>5797423</td>\n      <td>107</td>\n      <td>0</td>\n      <td>2</td>\n    </tr>\n    <tr>\n      <th>1310588</th>\n      <td>3</td>\n      <td>4092</td>\n      <td>741923455</td>\n      <td>0</td>\n      <td>0</td>\n      <td>0</td>\n    </tr>\n    <tr>\n      <th>1310589</th>\n      <td>18</td>\n      <td>339</td>\n      <td>741923328</td>\n      <td>0</td>\n      <td>0</td>\n      <td>4</td>\n    </tr>\n    <tr>\n      <th>1310590</th>\n      <td>8</td>\n      <td>1721</td>\n      <td>741923328</td>\n      <td>0</td>\n      <td>0</td>\n      <td>5</td>\n    </tr>\n    <tr>\n      <th>1310591</th>\n      <td>8</td>\n      <td>68</td>\n      <td>742070144</td>\n      <td>0</td>\n      <td>0</td>\n      <td>3</td>\n    </tr>\n  </tbody>\n</table>\n<p>1310592 rows × 6 columns</p>\n</div>"
     },
     "metadata": {}
    }
   ],
   "source": [
    "m = np.fromfile(fp, dtype = '<u8') # default: '<u8' che sarebbe la little endianess ovvero i bits significativi si trovano a destra della riga estratta dallo stream di dati. Inoltre per determinare la lunghezza di ciascuna riga all'interno di dtype è specificato  il  dtype='u8'. Poichè le cpu sono in grado di leggere un file binario per bytes allora si richiede una riga letta alla volta che sia lunga 8 bytes cioè 64 bits come avremmo voluto inizialmente. Inoltre per convertire successivamente la riga letta tramite i singoli bits, dunque con operazioni bitwise, nelle informazioni delle hits rivelate bisogna leggere tali stringhe come unsigned int e successivamente riconvertirle in singoli bits, dunque zeri e uni. Questo accade perchè vogliamo analizzare ciascuna riga per bit ma per farlo dobbiamo passare necessariamente per i bytes visto che le cpu leggono a multipli di 8 bits. \n",
    "\n",
    "mi = m#.astype(int) # non serve, anzi meglio evitarlo così resta tutto unsigned\n",
    "\n",
    "mat = np.zeros((mi.shape[0], 6), dtype = \"u4\") # orbit raggiunge i 32 bit\n",
    "\n",
    "mat[:,0] = mi & int('1' * 5, 2) # tdc, 0-4 (5)\n",
    "mat[:,1] = (mi & int('1' * 12 + '0' * 5, 2)) >> 5 # bx, 5-16 (12)\n",
    "mat[:,2] = (mi & int('1' * 32 + '0' * 17, 2)) >> 17 # orbit, 17-48 (32)\n",
    "mat[:,3] = (mi & int('1' * 9 + '0' * 49 , 2)) >> 49 # chan, 49-57 (9)\n",
    "mat[:,4] = (mi & int('1' * 3 + '0' * 58, 2)) >> 58 # fpga (3)\n",
    "#mat[:,5] = (mi & int('1' * 3 + '0' * 61, 2)) >> 61 # head (3)\n",
    "# la riga sopra fallisce a causa di un overflow, sarebbe un bitwise di un numero con un array troppo \"stretto\" rispetto all'altro numero\n",
    "# meglio prima traslare e poi fare l'and\n",
    "mat[:,5] = mi >> 61 # del resto basta questo, è ovvio che se tolgo gli ultimi 61 bits restano solo i primi 3\n",
    "\n",
    "#print(mat[1])\n",
    "#print(mat.dtype)\n",
    "df_little = pd.DataFrame(mat, columns = ['tdc', 'bx', 'orbit', 'chan', 'fpga', 'head'])\n",
    "display(df_little)"
   ]
  },
  {
   "cell_type": "code",
   "execution_count": 4,
   "metadata": {},
   "outputs": [
    {
     "output_type": "stream",
     "name": "stdout",
     "text": [
      "7\n5\n"
     ]
    }
   ],
   "source": [
    "print(df_big['head'].max())\n",
    "print(df_little['head'].max())\n",
    "# df_big['head'].hist();"
   ]
  },
  {
   "source": [
    "Quello giusto è il little cioè quello che ho letto con '<u8', perché Pazzini dice che la colonna head va da 0 a 5 e solo df_little soddisfa questo requisito"
   ],
   "cell_type": "markdown",
   "metadata": {}
  },
  {
   "cell_type": "code",
   "execution_count": 5,
   "metadata": {},
   "outputs": [],
   "source": [
    "df_big.to_csv(\"df_big.csv\")\n",
    "df_little.to_csv(\"df_little.csv\")"
   ]
  },
  {
   "cell_type": "code",
   "execution_count": 6,
   "metadata": {},
   "outputs": [
    {
     "output_type": "stream",
     "name": "stdout",
     "text": [
      "64\n[ 5 17 49 58 61 64]\n"
     ]
    }
   ],
   "source": [
    "v = np.array([5, 12, 32, 9, 3, 3])\n",
    "print(v.sum()) # deve essere 64\n",
    "print(v.cumsum()) # sono i numeri che metto sopra riguardo i bits che butto"
   ]
  }
 ]
}